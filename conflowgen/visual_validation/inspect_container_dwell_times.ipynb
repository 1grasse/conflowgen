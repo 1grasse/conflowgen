{
 "cells": [
  {
   "cell_type": "markdown",
   "id": "619e51d9-68a6-41d8-8cff-6a366b8bb621",
   "metadata": {},
   "source": [
    "# Inspect container dwell times"
   ]
  },
  {
   "cell_type": "code",
   "execution_count": null,
   "id": "e4aaa0cb-d64a-4e21-a7d8-1bc8daf063c0",
   "metadata": {},
   "outputs": [],
   "source": [
    "import os\n",
    "import pathlib\n",
    "import ipywidgets as widgets\n",
    "import pandas as pd\n",
    "from IPython.display import Markdown\n",
    "import matplotlib.pyplot as plt\n",
    "from matplotlib import gridspec"
   ]
  },
  {
   "cell_type": "code",
   "execution_count": null,
   "id": "f322bab4-7a66-44f8-b5bb-011711ce1bf3",
   "metadata": {},
   "outputs": [],
   "source": [
    "folder_of_this_jupyter_notebook = pathlib.Path.cwd()\n",
    "export_folder = os.path.join(\n",
    "    folder_of_this_jupyter_notebook,\n",
    "    os.pardir,\n",
    "    \"data\",\n",
    "    \"exports\"\n",
    ")\n",
    "folders = [\n",
    "    folder\n",
    "    for folder in os.listdir(export_folder)\n",
    "    if os.path.isdir(\n",
    "        os.path.join(\n",
    "            export_folder,\n",
    "            folder\n",
    "        )\n",
    "    )\n",
    "]\n",
    "\n",
    "dropdown_field = widgets.Dropdown(\n",
    "    options=list(reversed(folders)),  # always show the newest first\n",
    "    description='',\n",
    "    layout={'width': 'max-content'}\n",
    ")\n",
    "dropdown_label = widgets.Label(value=\"Select the exported output: \")\n",
    "display(widgets.HBox([dropdown_label, dropdown_field]))"
   ]
  },
  {
   "cell_type": "code",
   "execution_count": null,
   "id": "16dfc328-58ed-4bfd-885a-af044db11310",
   "metadata": {},
   "outputs": [],
   "source": [
    "path_to_selected_exported_content = os.path.join(\n",
    "    export_folder,\n",
    "    dropdown_field.value\n",
    ")\n",
    "\n",
    "print(\"Working with directory \" + path_to_selected_exported_content)"
   ]
  },
  {
   "cell_type": "markdown",
   "id": "42b7a95b-ff12-4ba7-ba71-e36874f109d6",
   "metadata": {},
   "source": [
    "## Load containers"
   ]
  },
  {
   "cell_type": "code",
   "execution_count": null,
   "id": "382056d5-9846-46bf-897a-e6dc3ebf80e6",
   "metadata": {},
   "outputs": [],
   "source": [
    "path_to_containers = os.path.join(\n",
    "    path_to_selected_exported_content,\n",
    "    \"containers.csv\"\n",
    ")\n",
    "print(f\"Opening {path_to_containers}\")\n",
    "df_containers = pd.read_csv(path_to_containers, index_col=\"id\", dtype={\n",
    "    \"delivered_by_truck\": \"Int64\",\n",
    "    \"picked_up_by_truck\": \"Int64\",\n",
    "    \"delivered_by_large_scheduled_vehicle\": \"Int64\",\n",
    "    \"picked_up_by_large_scheduled_vehicle\": \"Int64\"\n",
    "})\n",
    "\n",
    "df_containers"
   ]
  },
  {
   "cell_type": "code",
   "execution_count": null,
   "id": "feb02896-add4-4972-8577-73f875e3ae80",
   "metadata": {},
   "outputs": [],
   "source": [
    "df_containers.groupby(by=\"delivered_by_large_scheduled_vehicle\").count()"
   ]
  },
  {
   "cell_type": "markdown",
   "id": "85399497-a93f-4b45-be5e-b44a73afab6f",
   "metadata": {},
   "source": [
    "## Load scheduled vehicles"
   ]
  },
  {
   "cell_type": "code",
   "execution_count": null,
   "id": "6bca4ae7-ecb4-41cb-bee8-fdcaebe94d08",
   "metadata": {},
   "outputs": [],
   "source": [
    "path_to_deep_sea_vessels = os.path.join(\n",
    "    path_to_selected_exported_content,\n",
    "    \"deep_sea_vessels.csv\"\n",
    ")\n",
    "\n",
    "path_to_feeders = os.path.join(\n",
    "    path_to_selected_exported_content,\n",
    "    \"feeders.csv\"\n",
    ")\n",
    "\n",
    "path_to_barges = os.path.join(\n",
    "    path_to_selected_exported_content,\n",
    "    \"barges.csv\"\n",
    ")\n",
    "\n",
    "path_to_trains = os.path.join(\n",
    "    path_to_selected_exported_content,\n",
    "    \"trains.csv\"\n",
    ")\n",
    "\n",
    "scheduled_vehicle_file_paths = {\n",
    "    \"deep_sea_vessels\": path_to_deep_sea_vessels,\n",
    "    \"feeders\": path_to_feeders,\n",
    "    \"barges\": path_to_barges,\n",
    "    \"trains\": path_to_trains\n",
    "}\n",
    "\n",
    "for name, path in scheduled_vehicle_file_paths.items():\n",
    "    print(\"Check file exists for vehicle \" + name + \".\")\n",
    "    assert os.path.isfile(path)\n",
    "\n",
    "print(\"All files exist.\")"
   ]
  },
  {
   "cell_type": "code",
   "execution_count": null,
   "id": "b167a967-c003-4e81-90ca-ce3e9998aafa",
   "metadata": {},
   "outputs": [],
   "source": [
    "for name, path in list(scheduled_vehicle_file_paths.items()):\n",
    "    print(\"Check file size for vehicle \" + name)\n",
    "    size_in_bytes = os.path.getsize(path)\n",
    "    if size_in_bytes <= 4:\n",
    "        print(\"    This file is empty, ignoring it in the analysis from now on\")\n",
    "        del scheduled_vehicle_file_paths[name]"
   ]
  },
  {
   "cell_type": "code",
   "execution_count": null,
   "id": "238b31e0-f7ad-4ca4-9b53-738194f22a63",
   "metadata": {},
   "outputs": [],
   "source": [
    "scheduled_vehicle_dfs = {\n",
    "    name: pd.read_csv(path, index_col=0, parse_dates=[\"scheduled_arrival\"])\n",
    "    for name, path in scheduled_vehicle_file_paths.items()\n",
    "}\n",
    "\n",
    "for name, df in scheduled_vehicle_dfs.items():\n",
    "    display(Markdown(\"#### \" + name))\n",
    "    scheduled_vehicle_dfs[name][\"vehicle_type\"] = name\n",
    "    display(scheduled_vehicle_dfs[name].sort_values(by=\"scheduled_arrival\"))"
   ]
  },
  {
   "cell_type": "code",
   "execution_count": null,
   "id": "48bc51cd-7e57-4054-9e76-cc09b89528f4",
   "metadata": {},
   "outputs": [],
   "source": [
    "df_large_scheduled_vehicle = pd.concat(\n",
    "    scheduled_vehicle_dfs.values()\n",
    ")\n",
    "df_large_scheduled_vehicle.sort_index(inplace=True)\n",
    "df_large_scheduled_vehicle.info()\n",
    "df_large_scheduled_vehicle"
   ]
  },
  {
   "cell_type": "markdown",
   "id": "db93d6f3-4d1d-4efd-ae46-7f66a40eef4a",
   "metadata": {},
   "source": [
    "Plot arrival pattern."
   ]
  },
  {
   "cell_type": "code",
   "execution_count": null,
   "id": "511bf2d2-2e05-49f0-bb4c-efe490be4acf",
   "metadata": {
    "scrolled": true,
    "tags": []
   },
   "outputs": [],
   "source": [
    "plt.figure(figsize=(15, 3))\n",
    "\n",
    "x, y, z = [], [], []\n",
    "y_axis = []\n",
    "\n",
    "y_scaling_factor = 2\n",
    "\n",
    "for i, (name, df) in enumerate(scheduled_vehicle_dfs.items()):\n",
    "    y_axis.append((i/y_scaling_factor, name))\n",
    "    if len(df) == 0:\n",
    "        continue\n",
    "    arrivals_and_capacity = df[[\"scheduled_arrival\", \"moved_capacity\"]]\n",
    "    for _, row in arrivals_and_capacity.iterrows():\n",
    "        event = row[\"scheduled_arrival\"]\n",
    "        moved_capacity = row[\"moved_capacity\"]\n",
    "        x.append(event)\n",
    "        y.append(i / y_scaling_factor)\n",
    "        z.append(moved_capacity / 20)\n",
    "\n",
    "plt.xticks(rotation=45)\n",
    "plt.yticks(*list(zip(*y_axis)))\n",
    "plt.scatter(x, y, s=z, color='gray')\n",
    "plt.ylim([-0.5, 1.5])\n",
    "plt.show()"
   ]
  },
  {
   "cell_type": "code",
   "execution_count": null,
   "id": "f538c012-4e7b-4c68-b325-6afb4f1f646f",
   "metadata": {
    "scrolled": true,
    "tags": []
   },
   "outputs": [],
   "source": [
    "vehicle_to_teu_to_deliver = {}\n",
    "vehicle_to_teu_to_pickup = {}\n",
    "\n",
    "for i, container in df_containers.iterrows():\n",
    "    teu = container[\"length\"] / 20\n",
    "    assert 1 <= teu <= 2.5\n",
    "\n",
    "    if container[\"delivered_by\"] != \"truck\":\n",
    "        vehicle = container[\"delivered_by_large_scheduled_vehicle\"]\n",
    "        if vehicle not in vehicle_to_teu_to_deliver.keys():\n",
    "            vehicle_to_teu_to_deliver[vehicle] = 0\n",
    "        vehicle_to_teu_to_deliver[vehicle] += teu\n",
    "\n",
    "    if container[\"picked_up_by\"] != \"truck\":\n",
    "        vehicle = container[\"picked_up_by_large_scheduled_vehicle\"]\n",
    "        if vehicle not in vehicle_to_teu_to_pickup.keys():\n",
    "            vehicle_to_teu_to_pickup[vehicle] = 0\n",
    "        vehicle_to_teu_to_pickup[vehicle] += teu\n",
    "\n",
    "vehicle_to_teu_to_deliver, vehicle_to_teu_to_pickup"
   ]
  },
  {
   "cell_type": "code",
   "execution_count": null,
   "id": "e67ccc2e-9535-42ad-b7c0-221753f34021",
   "metadata": {
    "tags": []
   },
   "outputs": [],
   "source": [
    "s_delivery = pd.Series(vehicle_to_teu_to_deliver)\n",
    "s_pickup = pd.Series(vehicle_to_teu_to_pickup)\n",
    "df_large_scheduled_vehicle[\"capacity_delivery\"] = s_delivery\n",
    "df_large_scheduled_vehicle[\"capacity_pickup\"] = s_pickup\n",
    "df_large_scheduled_vehicle"
   ]
  },
  {
   "cell_type": "markdown",
   "id": "2af0b8ed-f158-48a6-a85d-d038caa92e7d",
   "metadata": {},
   "source": [
    "Let's visualize in red if our transportation capacities were exceeded"
   ]
  },
  {
   "cell_type": "code",
   "execution_count": null,
   "id": "f4ad67b7-5393-4cce-ab28-be386f4ad3e3",
   "metadata": {},
   "outputs": [],
   "source": [
    "ax = df_large_scheduled_vehicle.plot.scatter(\n",
    "    x=\"capacity_in_teu\",\n",
    "    y=\"capacity_delivery\"\n",
    ")\n",
    "\n",
    "df_large_scheduled_vehicle.loc[\n",
    "    df_large_scheduled_vehicle[\"capacity_in_teu\"] < df_large_scheduled_vehicle[\"capacity_delivery\"]\n",
    "].plot.scatter(\n",
    "    x=\"capacity_in_teu\",\n",
    "    y=\"capacity_delivery\",\n",
    "    ax=ax,\n",
    "    color=\"r\"\n",
    ")\n",
    "plt.show()\n",
    "\n",
    "ax = df_large_scheduled_vehicle.plot.scatter(\n",
    "    x=\"moved_capacity\",\n",
    "    y=\"capacity_delivery\"\n",
    ")\n",
    "df_large_scheduled_vehicle.loc[\n",
    "    df_large_scheduled_vehicle[\"moved_capacity\"] < df_large_scheduled_vehicle[\"capacity_delivery\"]\n",
    "].plot.scatter(\n",
    "    x=\"moved_capacity\",\n",
    "    y=\"capacity_delivery\",\n",
    "    color=\"r\",\n",
    "    ax=ax\n",
    ")\n",
    "\n",
    "plt.show()\n",
    "\n",
    "free_delivery_capacity = df_large_scheduled_vehicle[\"moved_capacity\"] - df_large_scheduled_vehicle[\"capacity_delivery\"]\n",
    "free_delivery_capacity.plot.hist()\n",
    "plt.show()"
   ]
  },
  {
   "cell_type": "code",
   "execution_count": null,
   "id": "675da617-db88-49fb-ae6a-35097424499f",
   "metadata": {},
   "outputs": [],
   "source": [
    "ax = df_large_scheduled_vehicle.plot.scatter(\n",
    "    x=\"capacity_in_teu\",\n",
    "    y=\"capacity_pickup\"\n",
    ")\n",
    "plt.show()\n",
    "\n",
    "df_large_scheduled_vehicle.loc[\n",
    "    df_large_scheduled_vehicle[\"capacity_in_teu\"] < df_large_scheduled_vehicle[\"capacity_pickup\"]\n",
    "].plot.scatter(\n",
    "    x=\"capacity_in_teu\",\n",
    "    y=\"capacity_pickup\",\n",
    "    ax=ax,\n",
    "    color=\"r\"\n",
    ")\n",
    "plt.show()\n",
    "\n",
    "ax = df_large_scheduled_vehicle.plot.scatter(\n",
    "    x=\"moved_capacity\",\n",
    "    y=\"capacity_pickup\"\n",
    ")\n",
    "transportation_buffer = 1.2\n",
    "df_large_scheduled_vehicle.loc[\n",
    "    df_large_scheduled_vehicle[\"moved_capacity\"] * transportation_buffer < df_large_scheduled_vehicle[\"capacity_pickup\"]\n",
    "].plot.scatter(\n",
    "    x=\"moved_capacity\",\n",
    "    y=\"capacity_pickup\",\n",
    "    color=\"r\",\n",
    "    ax=ax\n",
    ")\n",
    "\n",
    "plt.show()\n",
    "\n",
    "free_delivery_capacity = df_large_scheduled_vehicle[\"moved_capacity\"] * 1.2 - df_large_scheduled_vehicle[\"capacity_pickup\"]\n",
    "plt.xlabel(\"Difference between moved capacity and the capacity of picked up containers\")\n",
    "free_delivery_capacity.plot.hist()\n",
    "plt.show()"
   ]
  },
  {
   "cell_type": "markdown",
   "id": "3f1e8dc9-caa1-42e9-910e-5175fd7a8e4e",
   "metadata": {},
   "source": [
    "If there was no red dot in any of the graphs above, the following should work smoothly."
   ]
  },
  {
   "cell_type": "code",
   "execution_count": null,
   "id": "471e7c9d-0686-42e2-a2f3-6f9b3c396137",
   "metadata": {
    "tags": []
   },
   "outputs": [],
   "source": [
    "for large_scheduled_vehicle_id in df_large_scheduled_vehicle.index:\n",
    "    delivered_teu = vehicle_to_teu_to_deliver.get(large_scheduled_vehicle_id, 0)\n",
    "    picked_up_teu = vehicle_to_teu_to_pickup.get(large_scheduled_vehicle_id, 0)\n",
    "    capacity_in_teu = df_large_scheduled_vehicle.loc[large_scheduled_vehicle_id, \"capacity_in_teu\"]\n",
    "    assert delivered_teu <= capacity_in_teu, f\"{delivered_teu} is more than {capacity_in_teu} for vehicle \"\\\n",
    "                                             f\"with id {large_scheduled_vehicle_id}\"\n",
    "    assert picked_up_teu <= capacity_in_teu, f\"{picked_up_teu} is more than {capacity_in_teu} for vehicle \"\\\n",
    "                                             f\"with id {large_scheduled_vehicle_id}\""
   ]
  },
  {
   "cell_type": "markdown",
   "id": "8423d7f3-4e09-45ec-b943-1f681b3afab2",
   "metadata": {},
   "source": [
    "## Load trucks"
   ]
  },
  {
   "cell_type": "code",
   "execution_count": null,
   "id": "6b4dbdeb-040a-44f8-a4ed-4b1c0a6c34c2",
   "metadata": {},
   "outputs": [],
   "source": [
    "path_to_trucks = os.path.join(\n",
    "    path_to_selected_exported_content,\n",
    "    \"trucks.csv\"\n",
    ")\n",
    "assert os.path.isfile(path_to_trucks)"
   ]
  },
  {
   "cell_type": "code",
   "execution_count": null,
   "id": "6b83129e-16ee-46ee-9ad7-35cd65b6a5f1",
   "metadata": {},
   "outputs": [],
   "source": [
    "df_truck = pd.read_csv(\n",
    "    path_to_trucks, index_col=0,\n",
    "    parse_dates=[\n",
    "        # Pickup\n",
    "        \"planned_container_pickup_time_prior_berthing\",\n",
    "        \"realized_container_pickup_time\",\n",
    "\n",
    "        # Delivery\n",
    "        \"planned_container_delivery_time_at_window_start\",\n",
    "        \"realized_container_delivery_time\"\n",
    "    ])\n",
    "df_truck"
   ]
  },
  {
   "cell_type": "code",
   "execution_count": null,
   "id": "175bff33-838b-41db-8321-46a2bc254388",
   "metadata": {},
   "outputs": [],
   "source": [
    "assert len(df_truck[df_truck[\"picks_up_container\"] & pd.isna(df_truck[\"realized_container_pickup_time\"])]) == 0, \\\n",
    "       \"If a truck picks up a container, it should always have a realized container pickup time\"\n",
    "\n",
    "assert len(df_truck[df_truck[\"delivers_container\"] & pd.isna(df_truck[\"realized_container_delivery_time\"])]) == 0, \\\n",
    "       \"If a truck deliver a container, it should always have a realized container delivery time\"\n",
    "\n",
    "assert len(df_truck[~(df_truck[\"delivers_container\"] | df_truck[\"picks_up_container\"])]) == 0, \\\n",
    "       \"There is no truck that neither delivers or picks up a container\""
   ]
  },
  {
   "cell_type": "code",
   "execution_count": null,
   "id": "b4e2a5bf-3b71-4b98-b675-2a4ec5760f78",
   "metadata": {},
   "outputs": [],
   "source": [
    "arrivals = pd.DataFrame({\"x\": x, \"y\": y})\n",
    "arrivals.set_index(\"x\").plot(marker=\".\", linestyle=\"None\")\n",
    "plt.show()\n",
    "\n",
    "arrivals = arrivals.set_index(\"x\")"
   ]
  },
  {
   "cell_type": "code",
   "execution_count": null,
   "id": "d0e72182-93fd-4132-816a-d53e0cb27524",
   "metadata": {},
   "outputs": [],
   "source": [
    "plt.figure(figsize=(15, 5))\n",
    "\n",
    "container_deliveries_by_truck = df_truck.groupby(\n",
    "    pd.Grouper(key='realized_container_delivery_time', freq='H')\n",
    ").count().fillna(0)\n",
    "\n",
    "ax = container_deliveries_by_truck[\"delivers_container\"].plot()\n",
    "ax.set_title(\"Number of trucks arriving in each hour that deliver a container\")\n",
    "\n",
    "ax2 = arrivals.plot(color='red', ax=ax, marker=\".\", linestyle=\"None\", secondary_y=True)\n",
    "ticks, labels = list(zip(*y_axis))\n",
    "\n",
    "ax2.set_yticks(ticks)\n",
    "ax2.set_yticklabels(labels)\n",
    "\n",
    "plt.show()"
   ]
  },
  {
   "cell_type": "code",
   "execution_count": null,
   "id": "79d1b37c-7e1a-4e59-996a-05e6aaa7ac8f",
   "metadata": {},
   "outputs": [],
   "source": [
    "fig = plt.figure(figsize=(10, 5))\n",
    "# set height ratios for subplots\n",
    "gs = gridspec.GridSpec(2, 1, height_ratios=[2, 1]) \n",
    "\n",
    "# the upper subplot\n",
    "ax1 = plt.subplot(gs[0])\n",
    "\n",
    "plt.title(\"Relationship of vessels and truck arrivals\")\n",
    "\n",
    "ax1.set_ylabel(\"Number trucks per hour\")\n",
    "ax12 = container_deliveries_by_truck[\"delivers_container\"].plot(ax=ax1, color=\"dimgray\")\n",
    "ax12.set_xlim([pd.Timestamp(\"2021-06-15\"), pd.Timestamp(pd.Timestamp(\"2021-08-15\"))])\n",
    "\n",
    "# the lower subplot\n",
    "ax2 = plt.subplot(gs[1], sharex=ax12)\n",
    "arrivals.plot(color='gray', ax=ax2, marker=\".\", linestyle=\"None\", legend=False)\n",
    "\n",
    "ax2.scatter(x, y, s=z, color='gray')\n",
    "\n",
    "ticks, labels = list(zip(*y_axis))\n",
    "ax2.set_yticks(ticks)\n",
    "ax2.set_yticklabels([l.capitalize().replace(\"_\", \" \") for l in labels])\n",
    "ax2.set_ylim([-0.5, 2])\n",
    "\n",
    "ax2.set_xlabel(\"\")\n",
    "plt.show()"
   ]
  },
  {
   "cell_type": "code",
   "execution_count": null,
   "id": "82c2c839-6047-4f47-8026-b8e28a247dfd",
   "metadata": {},
   "outputs": [],
   "source": [
    "plt.figure(figsize=(15, 5))\n",
    "\n",
    "container_pickups = df_truck.groupby(\n",
    "    pd.Grouper(key='realized_container_pickup_time', freq='H')\n",
    ").count().fillna(0)\n",
    "\n",
    "scaling_factor = 7\n",
    "y_pos_scaled = [y_i * scaling_factor for y_i in y]\n",
    "ax = container_pickups[\"delivers_container\"].plot()\n",
    "ax.set_title(\"Number of trucks arriving in each hour that pick up a container\")\n",
    "\n",
    "ax2 = ax.twinx()\n",
    "ax.scatter(x, y, color='y', s=70)\n",
    "ticks, labels = list(zip(*y_axis))\n",
    "ax2.set_yticks(ticks)\n",
    "ax2.set_yticklabels(labels)\n",
    "\n",
    "plt.show()"
   ]
  },
  {
   "cell_type": "code",
   "execution_count": null,
   "id": "f8b43881-2dca-4e86-b9f3-7c9380c831e4",
   "metadata": {},
   "outputs": [],
   "source": [
    "container_pickups.groupby(container_pickups.index.hour).mean()[\"picks_up_container\"].plot()\n",
    "plt.title(\"Container pickups at each hour of the day\")\n",
    "plt.show()\n",
    "\n",
    "container_deliveries_by_truck.groupby(container_deliveries_by_truck.index.hour).mean()[\"delivers_container\"].plot()\n",
    "plt.title(\"Container deliveries at each hour of the day\")\n",
    "plt.show()"
   ]
  },
  {
   "cell_type": "markdown",
   "id": "1b67c5cd-407a-47fe-95ce-c0d4704af369",
   "metadata": {},
   "source": [
    "This is the probability of the truck to show up at any given hour of the week (by index)."
   ]
  },
  {
   "cell_type": "code",
   "execution_count": null,
   "id": "3615b713-5883-4bcf-96b8-27b94966b4c3",
   "metadata": {},
   "outputs": [],
   "source": [
    "ax = container_pickups.groupby(container_pickups.index.weekday).mean()[\"picks_up_container\"].plot.bar()\n",
    "ax.set_xlabel(\"\")\n",
    "plt.title(\"Container pickups at each day of the week\")\n",
    "plt.show()\n",
    "\n",
    "ax = container_deliveries_by_truck.groupby(container_deliveries_by_truck.index.weekday).mean()[\"delivers_container\"].plot.bar()\n",
    "ax.set_xlabel(\"\")\n",
    "plt.title(\"Container deliveries at each day of the week\")\n",
    "plt.show()"
   ]
  },
  {
   "cell_type": "code",
   "execution_count": null,
   "id": "1448e673-77d0-495d-9fdf-4728396e5ef9",
   "metadata": {},
   "outputs": [],
   "source": [
    "plt.plot([0.0, 0.0, 0.0, 0.0, 0.0, 0.004136582430806258, 0.008498796630565584, 0.007295427196149218,\n",
    "          0.008348375451263539, 0.011131167268351384, 0.01286101083032491, 0.015418170878459687, 0.012936221419975932,\n",
    "          0.015568592057761732, 0.01391395908543923, 0.011732851985559567, 0.013161853188929002, 0.011206377858002407,\n",
    "          0.008498796630565584, 0.007069795427196149, 0.0053399518652226235, 0.003309265944645006, 0.00210589651022864,\n",
    "          0.002331528279181709, 0.0019554753309265946, 0.002030685920577617, 0.0017298435619735259, 0.002331528279181709,\n",
    "          0.0025571600481347776, 0.00631768953068592, 0.009401323706377859, 0.008197954271961492, 0.009852587244283995,\n",
    "          0.012033694344163659, 0.01338748495788207, 0.01233453670276775, 0.014290012033694344, 0.014666064981949459,\n",
    "          0.014741275571600482, 0.012409747292418772, 0.01105595667870036, 0.01000300842358604, 0.007295427196149218,\n",
    "          0.005941636582430806, 0.0053399518652226235, 0.0030836341756919376, 0.0019554753309265946,\n",
    "          0.0024819494584837547, 0.0018050541516245488, 0.0019554753309265946, 0.0013537906137184115,\n",
    "          0.0009777376654632973, 0.002331528279181709, 0.007821901323706379, 0.009100481347773767, 0.00947653429602888,\n",
    "          0.009927797833935019, 0.01263537906137184, 0.011958483754512635, 0.015192539109506619, 0.014741275571600482,\n",
    "          0.01647111913357401, 0.015342960288808664, 0.01233453670276775, 0.011883273164861612, 0.009626955475330927,\n",
    "          0.008348375451263539, 0.006167268351383875, 0.004362214199759326, 0.004061371841155234, 0.002331528279181709,\n",
    "          0.002331528279181709, 0.001128158844765343, 0.0012785800240673888, 0.00105294825511432, 0.0009025270758122744,\n",
    "          0.0018802647412755715, 0.005490373044524669, 0.01022864019253911, 0.011206377858002407, 0.01105595667870036,\n",
    "          0.01210890493381468, 0.015568592057761732, 0.01654632972322503, 0.019780385078219012, 0.018050541516245487,\n",
    "          0.01782490974729242, 0.016095066185318894, 0.014064380264741275, 0.012560168471720819, 0.008047533092659447,\n",
    "          0.006468110709987966, 0.006092057761732852, 0.0042870036101083035, 0.003234055354993983, 0.00157942238267148,\n",
    "          0.002707581227436823, 0.002030685920577617, 0.002331528279181709, 0.00157942238267148, 0.0030084235860409147,\n",
    "          0.00631768953068592, 0.009551744885679904, 0.01210890493381468, 0.011356799037304452, 0.016170276774969915,\n",
    "          0.01647111913357401, 0.01752406738868833, 0.01759927797833935, 0.01752406738868833, 0.015944645006016847,\n",
    "          0.014365222623345367, 0.01210890493381468, 0.008874849578820699, 0.009551744885679904, 0.004512635379061372,\n",
    "          0.004663056558363418, 0.0029332129963898917, 0.0017298435619735259, 0.002331528279181709,\n",
    "          0.0025571600481347776, 0.00210589651022864, 0.0019554753309265946, 0.0009777376654632973,\n",
    "          0.0009777376654632973, 0.001128158844765343, 0.0013537906137184115, 0.001654632972322503, 0.001654632972322503,\n",
    "          0.0013537906137184115, 0.0006768953068592057, 0.00052647412755716, 0.0004512635379061372, 0.0, 0.0, 0.0, 0.0,\n",
    "          0.0, 0.0, 0.0, 0.0, 0.0, 0.0, 0.0] + ([0] * 24)\n",
    ")\n",
    "plt.xlim([0, 168])\n",
    "plt.show()"
   ]
  },
  {
   "cell_type": "code",
   "execution_count": null,
   "id": "31c02b92-2f22-4bba-8d0b-d460f8f5735f",
   "metadata": {},
   "outputs": [],
   "source": [
    "df_truck.loc[\n",
    "    df_truck[\"realized_container_pickup_time\"].dt.weekday == 6\n",
    "]"
   ]
  },
  {
   "cell_type": "code",
   "execution_count": null,
   "id": "17208e71-238e-4011-bfb9-52254a868e5c",
   "metadata": {},
   "outputs": [],
   "source": [
    "df_truck.loc[\n",
    "    df_truck[\"realized_container_delivery_time\"].dt.weekday == 6\n",
    "]"
   ]
  },
  {
   "cell_type": "markdown",
   "id": "93ce2832-68e6-40b2-acd1-67e547697c26",
   "metadata": {},
   "source": [
    "How much percent is that?"
   ]
  },
  {
   "cell_type": "code",
   "execution_count": null,
   "id": "283b5eb4-61d4-4da4-b1a7-3f3e3905614f",
   "metadata": {},
   "outputs": [],
   "source": [
    "len(df_truck.loc[\n",
    "    df_truck[\"realized_container_delivery_time\"].dt.weekday == 6\n",
    "]) / len(df_truck.loc[\n",
    "    df_truck[\"realized_container_delivery_time\"].dt.weekday != 6\n",
    "]) * 100"
   ]
  },
  {
   "cell_type": "code",
   "execution_count": null,
   "id": "44db6493-16b5-401b-996b-467576b6c536",
   "metadata": {},
   "outputs": [],
   "source": [
    "delivered_and_picked_up_by_large_vessels_df = df_containers.loc[\n",
    "    ~pd.isna(df_containers[\"picked_up_by_large_scheduled_vehicle\"])\n",
    "].join(\n",
    "    df_large_scheduled_vehicle, on=\"picked_up_by_large_scheduled_vehicle\", rsuffix=\"_picked_up\"\n",
    ").loc[\n",
    "    ~pd.isna(df_containers[\"delivered_by_large_scheduled_vehicle\"])\n",
    "].join(\n",
    "    df_large_scheduled_vehicle, on=\"delivered_by_large_scheduled_vehicle\", rsuffix=\"_delivered_by\"\n",
    ")\n",
    "\n",
    "delivered_and_picked_up_by_large_vessels_df"
   ]
  },
  {
   "cell_type": "code",
   "execution_count": null,
   "id": "921b23c9-7d24-4254-96db-7ddd8041626b",
   "metadata": {},
   "outputs": [],
   "source": [
    "dwell_time = (\n",
    "    delivered_and_picked_up_by_large_vessels_df[\"scheduled_arrival\"]\n",
    "    - delivered_and_picked_up_by_large_vessels_df[\"scheduled_arrival_delivered_by\"]\n",
    ")\n",
    "dwell_time"
   ]
  },
  {
   "cell_type": "code",
   "execution_count": null,
   "id": "8e5c866b-c25e-4378-8cce-3c3407534c5b",
   "metadata": {},
   "outputs": [],
   "source": [
    "dwell_time.describe()"
   ]
  },
  {
   "cell_type": "code",
   "execution_count": null,
   "id": "ae2cca5f-838a-4693-b949-0f4c001ce1f0",
   "metadata": {},
   "outputs": [],
   "source": [
    "dwell_time.astype(\"timedelta64[h]\").plot.hist(bins=30, color=\"gray\")\n",
    "plt.xlabel(\"Hours between delivery and onward transportation (except trucks)\")\n",
    "plt.ylabel(\"Number container in July\")\n",
    "plt.show()"
   ]
  },
  {
   "cell_type": "markdown",
   "id": "f8f1f3c7-5210-414d-a45b-c732ee3a9abe",
   "metadata": {},
   "source": []
  }
 ],
 "metadata": {
  "kernelspec": {
   "display_name": "Python 3 (ipykernel)",
   "language": "python",
   "name": "python3"
  },
  "language_info": {
   "codemirror_mode": {
    "name": "ipython",
    "version": 3
   },
   "file_extension": ".py",
   "mimetype": "text/x-python",
   "name": "python",
   "nbconvert_exporter": "python",
   "pygments_lexer": "ipython3",
   "version": "3.8.12"
  }
 },
 "nbformat": 4,
 "nbformat_minor": 5
}
