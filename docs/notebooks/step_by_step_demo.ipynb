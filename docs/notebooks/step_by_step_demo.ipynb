{
 "cells": [
  {
   "cell_type": "markdown",
   "id": "bfdc8db4",
   "metadata": {},
   "source": [
    "# Demo Script - Step by Step Guide"
   ]
  },
  {
   "cell_type": "markdown",
   "id": "c43d6407",
   "metadata": {},
   "source": [
    "## Prerequisites"
   ]
  },
  {
   "cell_type": "markdown",
   "id": "6d8426d3",
   "metadata": {},
   "source": [
    "To start, we first import the required classes, enums, and functions from ConFlowGen:"
   ]
  },
  {
   "cell_type": "code",
   "execution_count": 10,
   "id": "54373306",
   "metadata": {},
   "outputs": [
    {
     "ename": "ModuleNotFoundError",
     "evalue": "No module named 'enum_tools'",
     "output_type": "error",
     "traceback": [
      "\u001b[1;31m---------------------------------------------------------------------------\u001b[0m",
      "\u001b[1;31mModuleNotFoundError\u001b[0m                       Traceback (most recent call last)",
      "\u001b[1;32m~\\AppData\\Local\\Temp/ipykernel_14308/1989193424.py\u001b[0m in \u001b[0;36m<module>\u001b[1;34m\u001b[0m\n\u001b[1;32m----> 1\u001b[1;33m \u001b[1;32mfrom\u001b[0m \u001b[0mconflowgen\u001b[0m \u001b[1;32mimport\u001b[0m \u001b[0mContainerFlowGenerationManager\u001b[0m\u001b[1;33m\u001b[0m\u001b[1;33m\u001b[0m\u001b[0m\n\u001b[0m\u001b[0;32m      2\u001b[0m \u001b[1;32mfrom\u001b[0m \u001b[0mconflowgen\u001b[0m \u001b[1;32mimport\u001b[0m \u001b[0mModeOfTransport\u001b[0m\u001b[1;33m\u001b[0m\u001b[1;33m\u001b[0m\u001b[0m\n\u001b[0;32m      3\u001b[0m \u001b[1;32mfrom\u001b[0m \u001b[0mconflowgen\u001b[0m \u001b[1;32mimport\u001b[0m \u001b[0mPortCallManager\u001b[0m\u001b[1;33m\u001b[0m\u001b[1;33m\u001b[0m\u001b[0m\n\u001b[0;32m      4\u001b[0m \u001b[1;32mfrom\u001b[0m \u001b[0mconflowgen\u001b[0m \u001b[1;32mimport\u001b[0m \u001b[0mExportFileFormat\u001b[0m\u001b[1;33m\u001b[0m\u001b[1;33m\u001b[0m\u001b[0m\n\u001b[0;32m      5\u001b[0m \u001b[1;32mfrom\u001b[0m \u001b[0mconflowgen\u001b[0m \u001b[1;32mimport\u001b[0m \u001b[0mExportContainerFlowManager\u001b[0m\u001b[1;33m\u001b[0m\u001b[1;33m\u001b[0m\u001b[0m\n",
      "\u001b[1;32mc:\\users\\cog1990\\documents\\conflowgen_github\\conflowgen\\__init__.py\u001b[0m in \u001b[0;36m<module>\u001b[1;34m\u001b[0m\n\u001b[0;32m      4\u001b[0m \u001b[1;33m\u001b[0m\u001b[0m\n\u001b[0;32m      5\u001b[0m \u001b[1;31m# List of classes\u001b[0m\u001b[1;33m\u001b[0m\u001b[1;33m\u001b[0m\u001b[1;33m\u001b[0m\u001b[0m\n\u001b[1;32m----> 6\u001b[1;33m \u001b[1;32mfrom\u001b[0m \u001b[0mconflowgen\u001b[0m\u001b[1;33m.\u001b[0m\u001b[0mapi\u001b[0m\u001b[1;33m.\u001b[0m\u001b[0mcontainer_length_distribution_manager\u001b[0m \u001b[1;32mimport\u001b[0m \u001b[0mContainerLengthDistributionManager\u001b[0m\u001b[1;33m\u001b[0m\u001b[1;33m\u001b[0m\u001b[0m\n\u001b[0m\u001b[0;32m      7\u001b[0m \u001b[1;32mfrom\u001b[0m \u001b[0mconflowgen\u001b[0m\u001b[1;33m.\u001b[0m\u001b[0mapi\u001b[0m\u001b[1;33m.\u001b[0m\u001b[0mcontainer_weight_distribution_manager\u001b[0m \u001b[1;32mimport\u001b[0m \u001b[0mContainerWeightDistributionManager\u001b[0m\u001b[1;33m\u001b[0m\u001b[1;33m\u001b[0m\u001b[0m\n\u001b[0;32m      8\u001b[0m \u001b[1;32mfrom\u001b[0m \u001b[0mconflowgen\u001b[0m\u001b[1;33m.\u001b[0m\u001b[0mapi\u001b[0m\u001b[1;33m.\u001b[0m\u001b[0mcontainer_flow_generation_manager\u001b[0m \u001b[1;32mimport\u001b[0m \u001b[0mContainerFlowGenerationManager\u001b[0m\u001b[1;33m\u001b[0m\u001b[1;33m\u001b[0m\u001b[0m\n",
      "\u001b[1;32mc:\\users\\cog1990\\documents\\conflowgen_github\\conflowgen\\api\\container_length_distribution_manager.py\u001b[0m in \u001b[0;36m<module>\u001b[1;34m\u001b[0m\n\u001b[0;32m      1\u001b[0m \u001b[1;32mfrom\u001b[0m \u001b[0mtyping\u001b[0m \u001b[1;32mimport\u001b[0m \u001b[0mDict\u001b[0m\u001b[1;33m\u001b[0m\u001b[1;33m\u001b[0m\u001b[0m\n\u001b[0;32m      2\u001b[0m \u001b[1;33m\u001b[0m\u001b[0m\n\u001b[1;32m----> 3\u001b[1;33m \u001b[1;32mfrom\u001b[0m \u001b[0mconflowgen\u001b[0m\u001b[1;33m.\u001b[0m\u001b[0mdomain_models\u001b[0m\u001b[1;33m.\u001b[0m\u001b[0mdistribution_repositories\u001b[0m\u001b[1;33m.\u001b[0m\u001b[0mcontainer_length_distribution_repository\u001b[0m \u001b[1;32mimport\u001b[0m\u001b[0;31m \u001b[0m\u001b[0;31m\\\u001b[0m\u001b[1;33m\u001b[0m\u001b[1;33m\u001b[0m\u001b[0m\n\u001b[0m\u001b[0;32m      4\u001b[0m     \u001b[0mContainerLengthDistributionRepository\u001b[0m\u001b[1;33m\u001b[0m\u001b[1;33m\u001b[0m\u001b[0m\n\u001b[0;32m      5\u001b[0m \u001b[1;32mfrom\u001b[0m \u001b[0mconflowgen\u001b[0m\u001b[1;33m.\u001b[0m\u001b[0mdomain_models\u001b[0m\u001b[1;33m.\u001b[0m\u001b[0mdata_types\u001b[0m\u001b[1;33m.\u001b[0m\u001b[0mcontainer_length\u001b[0m \u001b[1;32mimport\u001b[0m \u001b[0mContainerLength\u001b[0m\u001b[1;33m\u001b[0m\u001b[1;33m\u001b[0m\u001b[0m\n",
      "\u001b[1;32mc:\\users\\cog1990\\documents\\conflowgen_github\\conflowgen\\domain_models\\distribution_repositories\\container_length_distribution_repository.py\u001b[0m in \u001b[0;36m<module>\u001b[1;34m\u001b[0m\n\u001b[0;32m      2\u001b[0m \u001b[1;32mfrom\u001b[0m \u001b[0mtyping\u001b[0m \u001b[1;32mimport\u001b[0m \u001b[0mDict\u001b[0m\u001b[1;33m\u001b[0m\u001b[1;33m\u001b[0m\u001b[0m\n\u001b[0;32m      3\u001b[0m \u001b[1;33m\u001b[0m\u001b[0m\n\u001b[1;32m----> 4\u001b[1;33m \u001b[1;32mfrom\u001b[0m \u001b[0mconflowgen\u001b[0m\u001b[1;33m.\u001b[0m\u001b[0mdomain_models\u001b[0m\u001b[1;33m.\u001b[0m\u001b[0mdistribution_models\u001b[0m\u001b[1;33m.\u001b[0m\u001b[0mcontainer_length_distribution\u001b[0m \u001b[1;32mimport\u001b[0m \u001b[0mContainerLengthDistribution\u001b[0m\u001b[1;33m\u001b[0m\u001b[1;33m\u001b[0m\u001b[0m\n\u001b[0m\u001b[0;32m      5\u001b[0m \u001b[1;32mfrom\u001b[0m \u001b[0mconflowgen\u001b[0m\u001b[1;33m.\u001b[0m\u001b[0mdomain_models\u001b[0m\u001b[1;33m.\u001b[0m\u001b[0mdata_types\u001b[0m\u001b[1;33m.\u001b[0m\u001b[0mcontainer_length\u001b[0m \u001b[1;32mimport\u001b[0m \u001b[0mContainerLength\u001b[0m\u001b[1;33m\u001b[0m\u001b[1;33m\u001b[0m\u001b[0m\n\u001b[0;32m      6\u001b[0m \u001b[1;33m\u001b[0m\u001b[0m\n",
      "\u001b[1;32mc:\\users\\cog1990\\documents\\conflowgen_github\\conflowgen\\domain_models\\distribution_models\\container_length_distribution.py\u001b[0m in \u001b[0;36m<module>\u001b[1;34m\u001b[0m\n\u001b[0;32m      2\u001b[0m \u001b[1;33m\u001b[0m\u001b[0m\n\u001b[0;32m      3\u001b[0m \u001b[1;32mfrom\u001b[0m \u001b[0mconflowgen\u001b[0m\u001b[1;33m.\u001b[0m\u001b[0mdomain_models\u001b[0m\u001b[1;33m.\u001b[0m\u001b[0mbase_model\u001b[0m \u001b[1;32mimport\u001b[0m \u001b[0mBaseModel\u001b[0m\u001b[1;33m\u001b[0m\u001b[1;33m\u001b[0m\u001b[0m\n\u001b[1;32m----> 4\u001b[1;33m \u001b[1;32mfrom\u001b[0m \u001b[0mconflowgen\u001b[0m\u001b[1;33m.\u001b[0m\u001b[0mdomain_models\u001b[0m\u001b[1;33m.\u001b[0m\u001b[0mfield_types\u001b[0m\u001b[1;33m.\u001b[0m\u001b[0mcontainer_length\u001b[0m \u001b[1;32mimport\u001b[0m \u001b[0mContainerLengthField\u001b[0m\u001b[1;33m\u001b[0m\u001b[1;33m\u001b[0m\u001b[0m\n\u001b[0m\u001b[0;32m      5\u001b[0m \u001b[1;33m\u001b[0m\u001b[0m\n\u001b[0;32m      6\u001b[0m \u001b[1;33m\u001b[0m\u001b[0m\n",
      "\u001b[1;32mc:\\users\\cog1990\\documents\\conflowgen_github\\conflowgen\\domain_models\\field_types\\container_length.py\u001b[0m in \u001b[0;36m<module>\u001b[1;34m\u001b[0m\n\u001b[0;32m      3\u001b[0m \u001b[1;32mfrom\u001b[0m \u001b[0mpeewee\u001b[0m \u001b[1;32mimport\u001b[0m \u001b[0mIntegerField\u001b[0m\u001b[1;33m\u001b[0m\u001b[1;33m\u001b[0m\u001b[0m\n\u001b[0;32m      4\u001b[0m \u001b[1;33m\u001b[0m\u001b[0m\n\u001b[1;32m----> 5\u001b[1;33m \u001b[1;32mfrom\u001b[0m \u001b[0mconflowgen\u001b[0m\u001b[1;33m.\u001b[0m\u001b[0mdomain_models\u001b[0m\u001b[1;33m.\u001b[0m\u001b[0mdata_types\u001b[0m\u001b[1;33m.\u001b[0m\u001b[0mcontainer_length\u001b[0m \u001b[1;32mimport\u001b[0m \u001b[0mContainerLength\u001b[0m\u001b[1;33m\u001b[0m\u001b[1;33m\u001b[0m\u001b[0m\n\u001b[0m\u001b[0;32m      6\u001b[0m \u001b[1;32mfrom\u001b[0m \u001b[0mconflowgen\u001b[0m\u001b[1;33m.\u001b[0m\u001b[0mdomain_models\u001b[0m\u001b[1;33m.\u001b[0m\u001b[0mfield_types\u001b[0m\u001b[1;33m.\u001b[0m\u001b[0menum_database_field\u001b[0m \u001b[1;32mimport\u001b[0m \u001b[0mcast_to_db_value\u001b[0m\u001b[1;33m\u001b[0m\u001b[1;33m\u001b[0m\u001b[0m\n\u001b[0;32m      7\u001b[0m \u001b[1;33m\u001b[0m\u001b[0m\n",
      "\u001b[1;32mc:\\users\\cog1990\\documents\\conflowgen_github\\conflowgen\\domain_models\\data_types\\container_length.py\u001b[0m in \u001b[0;36m<module>\u001b[1;34m\u001b[0m\n\u001b[0;32m      2\u001b[0m \u001b[1;32mimport\u001b[0m \u001b[0menum\u001b[0m\u001b[1;33m\u001b[0m\u001b[1;33m\u001b[0m\u001b[0m\n\u001b[0;32m      3\u001b[0m \u001b[1;33m\u001b[0m\u001b[0m\n\u001b[1;32m----> 4\u001b[1;33m \u001b[1;32mimport\u001b[0m \u001b[0menum_tools\u001b[0m\u001b[1;33m.\u001b[0m\u001b[0mdocumentation\u001b[0m\u001b[1;33m\u001b[0m\u001b[1;33m\u001b[0m\u001b[0m\n\u001b[0m\u001b[0;32m      5\u001b[0m \u001b[1;33m\u001b[0m\u001b[0m\n\u001b[0;32m      6\u001b[0m \u001b[1;33m\u001b[0m\u001b[0m\n",
      "\u001b[1;31mModuleNotFoundError\u001b[0m: No module named 'enum_tools'"
     ]
    }
   ],
   "source": [
    "from conflowgen import ContainerFlowGenerationManager\n",
    "from conflowgen import ModeOfTransport\n",
    "from conflowgen import PortCallManager\n",
    "from conflowgen import ExportFileFormat\n",
    "from conflowgen import ExportContainerFlowManager\n",
    "from conflowgen import DatabaseChooser\n",
    "from conflowgen import setup_logger\n",
    "from conflowgen import InboundAndOutboundVehicleCapacityPreviewReport\n",
    "from conflowgen import ContainerFlowByVehicleTypePreviewReport\n",
    "from conflowgen import VehicleCapacityExceededPreviewReport\n",
    "from conflowgen import ModalSplitPreviewReport\n",
    "from conflowgen import InboundAndOutboundVehicleCapacityAnalysisReport\n",
    "from conflowgen import ContainerFlowByVehicleTypeAnalysisReport\n",
    "from conflowgen import ModalSplitAnalysisReport\n",
    "from conflowgen import ContainerFlowAdjustmentByVehicleTypeAnalysisReport\n",
    "from conflowgen import ContainerFlowAdjustmentByVehicleTypeAnalysisSummaryReport\n",
    "import datetime\n",
    "import logging\n",
    "logger = logging.getLogger(\"conflowgen\")"
   ]
  },
  {
   "cell_type": "markdown",
   "id": "322d8760",
   "metadata": {},
   "source": [
    "## Database selection"
   ]
  },
  {
   "cell_type": "markdown",
   "id": "bb37d1ce",
   "metadata": {},
   "source": [
    "Now, we select a database to work in. If the selected database already exists within the project folder, it is loaded. Otherwise, it is created."
   ]
  },
  {
   "cell_type": "code",
   "execution_count": null,
   "id": "0a3dbc91",
   "metadata": {},
   "outputs": [],
   "source": [
    "database_chooser = DatabaseChooser()\n",
    "demo_file_name = \"my_demo.sqlite\"\n",
    "if demo_file_name in database_chooser.list_all_sqlite_databases():\n",
    "    database_chooser.load_existing_sqlite_database(demo_file_name)\n",
    "else:\n",
    "    database_chooser.create_new_sqlite_database(demo_file_name)"
   ]
  },
  {
   "cell_type": "markdown",
   "id": "d125844e",
   "metadata": {},
   "source": [
    "## General settings"
   ]
  },
  {
   "cell_type": "raw",
   "id": "d9ebd794",
   "metadata": {
    "raw_mimetype": "text/restructuredtext"
   },
   "source": [
    "We use the :meth:`.ContainerFlowGenerationManager.set_properties` method of the\n",
    ":class:`.ContainerFlowGenerationManager` class to set a ``name``, the ``start_date`` and the ``end_date`` for the\n",
    "generation process.\n",
    "The ``start_date`` and ``end_date`` parameters must be provided as a datetime.date.\n",
    "In our example, the ``end_time`` is set as a 21 day interval on top of the ``start_date`` which is set to the time of\n",
    "execution.\n",
    "Other general settings can be set here, see the :class:`.ContainerFlowGenerationManager` class for more information."
   ]
  },
  {
   "cell_type": "code",
   "execution_count": null,
   "id": "d492ae12",
   "metadata": {},
   "outputs": [],
   "source": [
    "container_flow_generation_manager = ContainerFlowGenerationManager()\n",
    "container_flow_generation_manager.set_properties(\n",
    "    name=\"Demo file\",\n",
    "    start_date=datetime.datetime.now().date(),\n",
    "    end_date=datetime.datetime.now().date() + datetime.timedelta(days=21)\n",
    ")"
   ]
  },
  {
   "cell_type": "markdown",
   "id": "a1450865",
   "metadata": {},
   "source": [
    "## Creating schedules"
   ]
  },
  {
   "cell_type": "raw",
   "id": "9cbdf998",
   "metadata": {
    "raw_mimetype": "text/restructuredtext"
   },
   "source": [
    "In this demo script we will exemplary add and specify one feeder liner service to the generator.\n",
    "We do this by using the :meth:`.PortCallManager.add_large_scheduled_vehicle` method.\n",
    "The concrete vehicle instances are only generated when :meth:`.ContainerFlowGenerationManager.generate` is invoked."
   ]
  },
  {
   "cell_type": "code",
   "execution_count": null,
   "id": "b3192809",
   "metadata": {},
   "outputs": [],
   "source": [
    "port_call_manager = PortCallManager()"
   ]
  },
  {
   "cell_type": "markdown",
   "id": "8accfda0",
   "metadata": {},
   "source": [
    "At first we define a name for our new feeder liner service."
   ]
  },
  {
   "cell_type": "code",
   "execution_count": null,
   "id": "72d53138",
   "metadata": {},
   "outputs": [],
   "source": [
    "feeder_service_name = \"LX050\""
   ]
  },
  {
   "cell_type": "raw",
   "id": "2343b334",
   "metadata": {
    "raw_mimetype": "text/restructuredtext"
   },
   "source": [
    "By using the :meth:`.PortCallManager.add_large_scheduled_vehicle` method, we can define the attributes for our feeder service.\n",
    "\n",
    "* ``vehicle_type`` defines, that we deal with a feeder as the mode of transport. Other valid modes of transport are deep_sea_vessel, barge, or train.\n",
    "* ``service_name`` defines a fictional name for that service.\n",
    "* ``vehicle_arrives_at`` specifies the date where the first port call of this particular line is usually happening. This parameter must be a datetime.date.\n",
    "* ``vehicle_arrives_at_time`` sets the average / planned / scheduled timeslot of the port call. This parameter must be a datetime.time.\n",
    "* ``average_vehicle_capacity`` defines the average capacity of the vessels utilized on this line. Parameter must be int or float.\n",
    "* ``average_moved_capacity`` sets the capacity which is in average moved between the feeder and the terminal at each call. Parameter must be int or float.\n",
    "* ``next_destinations`` can be set, consisting of name and frequency which can e.g. be used as implication for storage- and stacking-problems. A list of tuples [str, float] is expected here."
   ]
  },
  {
   "cell_type": "code",
   "execution_count": null,
   "id": "7ca6675e",
   "metadata": {},
   "outputs": [],
   "source": [
    "port_call_manager.add_large_scheduled_vehicle(\n",
    "        vehicle_type=ModeOfTransport.feeder,\n",
    "        service_name=feeder_service_name,\n",
    "        vehicle_arrives_at=datetime.date(2021, 7, 9),\n",
    "        vehicle_arrives_at_time=datetime.time(11),\n",
    "        average_vehicle_capacity=800,\n",
    "        average_moved_capacity=100,\n",
    "        next_destinations=[\n",
    "            (\"DEBRV\", 0.4),  # 40% of the containers go here...\n",
    "            (\"RULED\", 0.6)   # and the other 60% of the containers go here.\n",
    "        ]\n",
    "    )"
   ]
  },
  {
   "cell_type": "markdown",
   "id": "3991833a",
   "metadata": {},
   "source": [
    "The overall code in the demo for the creation of a feeder service looks like this. Here, the code is wrapped in an if condition to check if the liner service is not already existing and comes with some additional logging information. The logging part may be helpful, but is not explained further here."
   ]
  },
  {
   "cell_type": "code",
   "execution_count": null,
   "id": "e656f385",
   "metadata": {},
   "outputs": [],
   "source": [
    "port_call_manager = PortCallManager()\n",
    "feeder_service_name = \"LX050\"\n",
    "if not port_call_manager.has_schedule(feeder_service_name, vehicle_type=ModeOfTransport.feeder):\n",
    "    logger.info(f\"Add feeder service '{feeder_service_name}' to database\")\n",
    "    port_call_manager.add_large_scheduled_vehicle(\n",
    "        vehicle_type=ModeOfTransport.feeder,\n",
    "        service_name=feeder_service_name,\n",
    "        vehicle_arrives_at=datetime.date(2021, 7, 9),\n",
    "        vehicle_arrives_at_time=datetime.time(11),\n",
    "        average_vehicle_capacity=800,\n",
    "        average_moved_capacity=100,\n",
    "        next_destinations=[\n",
    "            (\"DEBRV\", 0.4),  # 40% of the containers go here...\n",
    "            (\"RULED\", 0.6)   # and the other 60% of the containers go here.\n",
    "        ]\n",
    "    )\n",
    "else:\n",
    "    logger.info(f\"Feeder service '{feeder_service_name}' already exists\")"
   ]
  },
  {
   "cell_type": "markdown",
   "id": "11208bd4",
   "metadata": {},
   "source": [
    "Following the same principle and structure we can also add schedules for trains and deep sea vessels:"
   ]
  },
  {
   "cell_type": "code",
   "execution_count": null,
   "id": "246c8720",
   "metadata": {},
   "outputs": [],
   "source": [
    "train_service_name = \"JR03A\"\n",
    "if not port_call_manager.has_schedule(train_service_name, vehicle_type=ModeOfTransport.train):\n",
    "    logger.info(f\"Add train service '{train_service_name}' to database\")\n",
    "    port_call_manager.add_large_scheduled_vehicle(\n",
    "        vehicle_type=ModeOfTransport.train,\n",
    "        service_name=train_service_name,\n",
    "        vehicle_arrives_at=datetime.date(2021, 7, 12),\n",
    "        vehicle_arrives_at_time=datetime.time(17),\n",
    "        average_vehicle_capacity=90,\n",
    "        average_moved_capacity=90,\n",
    "        next_destinations=None  # Here we don't have containers that need to be grouped by destination\n",
    "    )\n",
    "else:\n",
    "    logger.info(f\"Train service '{train_service_name}' already exists\")"
   ]
  },
  {
   "cell_type": "code",
   "execution_count": 11,
   "id": "affa405a",
   "metadata": {},
   "outputs": [
    {
     "ename": "NameError",
     "evalue": "name 'port_call_manager' is not defined",
     "output_type": "error",
     "traceback": [
      "\u001b[1;31m---------------------------------------------------------------------------\u001b[0m",
      "\u001b[1;31mNameError\u001b[0m                                 Traceback (most recent call last)",
      "\u001b[1;32m~\\AppData\\Local\\Temp/ipykernel_14308/1096489137.py\u001b[0m in \u001b[0;36m<module>\u001b[1;34m\u001b[0m\n\u001b[0;32m      1\u001b[0m \u001b[0mdeep_sea_service_name\u001b[0m \u001b[1;33m=\u001b[0m \u001b[1;34m\"LX050\"\u001b[0m\u001b[1;33m\u001b[0m\u001b[1;33m\u001b[0m\u001b[0m\n\u001b[1;32m----> 2\u001b[1;33m \u001b[1;32mif\u001b[0m \u001b[1;32mnot\u001b[0m \u001b[0mport_call_manager\u001b[0m\u001b[1;33m.\u001b[0m\u001b[0mhas_schedule\u001b[0m\u001b[1;33m(\u001b[0m\u001b[0mdeep_sea_service_name\u001b[0m\u001b[1;33m,\u001b[0m \u001b[0mvehicle_type\u001b[0m\u001b[1;33m=\u001b[0m\u001b[0mModeOfTransport\u001b[0m\u001b[1;33m.\u001b[0m\u001b[0mdeep_sea_vessel\u001b[0m\u001b[1;33m)\u001b[0m\u001b[1;33m:\u001b[0m\u001b[1;33m\u001b[0m\u001b[1;33m\u001b[0m\u001b[0m\n\u001b[0m\u001b[0;32m      3\u001b[0m     \u001b[0mlogger\u001b[0m\u001b[1;33m.\u001b[0m\u001b[0minfo\u001b[0m\u001b[1;33m(\u001b[0m\u001b[1;34mf\"Add deep sea vessel service '{deep_sea_service_name}' to database\"\u001b[0m\u001b[1;33m)\u001b[0m\u001b[1;33m\u001b[0m\u001b[1;33m\u001b[0m\u001b[0m\n\u001b[0;32m      4\u001b[0m     port_call_manager.add_large_scheduled_vehicle(\n\u001b[0;32m      5\u001b[0m         \u001b[0mvehicle_type\u001b[0m\u001b[1;33m=\u001b[0m\u001b[0mModeOfTransport\u001b[0m\u001b[1;33m.\u001b[0m\u001b[0mdeep_sea_vessel\u001b[0m\u001b[1;33m,\u001b[0m\u001b[1;33m\u001b[0m\u001b[1;33m\u001b[0m\u001b[0m\n",
      "\u001b[1;31mNameError\u001b[0m: name 'port_call_manager' is not defined"
     ]
    }
   ],
   "source": [
    "deep_sea_service_name = \"LX050\"\n",
    "if not port_call_manager.has_schedule(deep_sea_service_name, vehicle_type=ModeOfTransport.deep_sea_vessel):\n",
    "    logger.info(f\"Add deep sea vessel service '{deep_sea_service_name}' to database\")\n",
    "    port_call_manager.add_large_scheduled_vehicle(\n",
    "        vehicle_type=ModeOfTransport.deep_sea_vessel,\n",
    "        service_name=deep_sea_service_name,\n",
    "        vehicle_arrives_at=datetime.date(2021, 7, 10),\n",
    "        vehicle_arrives_at_time=datetime.time(19),\n",
    "        average_vehicle_capacity=16000,\n",
    "        average_moved_capacity=150,  # for faster demo\n",
    "        next_destinations=[\n",
    "            (\"ZADUR\", 0.3),  # 30% of the containers go to ZADUR...\n",
    "            (\"CNSHG\", 0.7)   # and the other 70% of the containers go to CNSHG.\n",
    "        ]\n",
    "    )\n",
    "else:\n",
    "    logger.info(f\"Deep sea service '{deep_sea_service_name}' already exists\")"
   ]
  },
  {
   "cell_type": "markdown",
   "id": "722a6945",
   "metadata": {},
   "source": [
    "## Generate the data"
   ]
  },
  {
   "cell_type": "raw",
   "id": "015b0ff1",
   "metadata": {
    "raw_mimetype": "text/restructuredtext"
   },
   "source": [
    "After we have set some exemplary schedules, we can now come to the actual generation.\n",
    "The :meth:`.ContainerFlowGenerationManager.generate` method starts the generation process of the synthetic\n",
    "container flow data, based on the information you set earlier."
   ]
  },
  {
   "cell_type": "code",
   "execution_count": null,
   "id": "65f0ad04",
   "metadata": {},
   "outputs": [],
   "source": [
    "container_flow_generation_manager.generate()"
   ]
  }
 ],
 "metadata": {
  "celltoolbar": "Raw Cell Format",
  "kernelspec": {
   "display_name": "Python 3 (ipykernel)",
   "language": "python",
   "name": "python3"
  },
  "language_info": {
   "codemirror_mode": {
    "name": "ipython",
    "version": 3
   },
   "file_extension": ".py",
   "mimetype": "text/x-python",
   "name": "python",
   "nbconvert_exporter": "python",
   "pygments_lexer": "ipython3",
   "version": "3.8.10"
  }
 },
 "nbformat": 4,
 "nbformat_minor": 5
}
